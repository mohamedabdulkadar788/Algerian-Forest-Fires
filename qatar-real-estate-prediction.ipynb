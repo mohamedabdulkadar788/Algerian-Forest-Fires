{
 "cells": [
  {
   "cell_type": "code",
   "execution_count": 1,
   "id": "568e754a",
   "metadata": {
    "execution": {
     "iopub.execute_input": "2025-01-14T09:33:38.915112Z",
     "iopub.status.busy": "2025-01-14T09:33:38.914674Z",
     "iopub.status.idle": "2025-01-14T09:33:47.517364Z",
     "shell.execute_reply": "2025-01-14T09:33:47.515746Z"
    },
    "papermill": {
     "duration": 8.611981,
     "end_time": "2025-01-14T09:33:47.520265",
     "exception": false,
     "start_time": "2025-01-14T09:33:38.908284",
     "status": "completed"
    },
    "tags": []
   },
   "outputs": [
    {
     "name": "stdout",
     "output_type": "stream",
     "text": [
      "Collecting streamlit\r\n",
      "  Downloading streamlit-1.41.1-py2.py3-none-any.whl.metadata (8.5 kB)\r\n",
      "Requirement already satisfied: altair<6,>=4.0 in /usr/local/lib/python3.10/dist-packages (from streamlit) (5.5.0)\r\n",
      "Requirement already satisfied: blinker<2,>=1.0.0 in /usr/lib/python3/dist-packages (from streamlit) (1.4)\r\n",
      "Requirement already satisfied: cachetools<6,>=4.0 in /usr/local/lib/python3.10/dist-packages (from streamlit) (5.5.0)\r\n",
      "Requirement already satisfied: click<9,>=7.0 in /usr/local/lib/python3.10/dist-packages (from streamlit) (8.1.7)\r\n",
      "Requirement already satisfied: numpy<3,>=1.23 in /usr/local/lib/python3.10/dist-packages (from streamlit) (1.26.4)\r\n",
      "Requirement already satisfied: packaging<25,>=20 in /usr/local/lib/python3.10/dist-packages (from streamlit) (24.1)\r\n",
      "Requirement already satisfied: pandas<3,>=1.4.0 in /usr/local/lib/python3.10/dist-packages (from streamlit) (2.1.4)\r\n",
      "Requirement already satisfied: pillow<12,>=7.1.0 in /usr/local/lib/python3.10/dist-packages (from streamlit) (10.4.0)\r\n",
      "Requirement already satisfied: protobuf<6,>=3.20 in /usr/local/lib/python3.10/dist-packages (from streamlit) (3.20.3)\r\n",
      "Requirement already satisfied: pyarrow>=7.0 in /usr/local/lib/python3.10/dist-packages (from streamlit) (18.1.0)\r\n",
      "Requirement already satisfied: requests<3,>=2.27 in /usr/local/lib/python3.10/dist-packages (from streamlit) (2.32.3)\r\n",
      "Requirement already satisfied: rich<14,>=10.14.0 in /usr/local/lib/python3.10/dist-packages (from streamlit) (13.8.1)\r\n",
      "Requirement already satisfied: tenacity<10,>=8.1.0 in /usr/local/lib/python3.10/dist-packages (from streamlit) (9.0.0)\r\n",
      "Requirement already satisfied: toml<2,>=0.10.1 in /usr/local/lib/python3.10/dist-packages (from streamlit) (0.10.2)\r\n",
      "Requirement already satisfied: typing-extensions<5,>=4.3.0 in /usr/local/lib/python3.10/dist-packages (from streamlit) (4.12.2)\r\n",
      "Requirement already satisfied: watchdog<7,>=2.1.5 in /usr/local/lib/python3.10/dist-packages (from streamlit) (6.0.0)\r\n",
      "Requirement already satisfied: gitpython!=3.1.19,<4,>=3.0.7 in /usr/local/lib/python3.10/dist-packages (from streamlit) (3.1.43)\r\n",
      "Collecting pydeck<1,>=0.8.0b4 (from streamlit)\r\n",
      "  Downloading pydeck-0.9.1-py2.py3-none-any.whl.metadata (4.1 kB)\r\n",
      "Requirement already satisfied: tornado<7,>=6.0.3 in /usr/local/lib/python3.10/dist-packages (from streamlit) (6.3.3)\r\n",
      "Requirement already satisfied: jinja2 in /usr/local/lib/python3.10/dist-packages (from altair<6,>=4.0->streamlit) (3.1.4)\r\n",
      "Requirement already satisfied: jsonschema>=3.0 in /usr/local/lib/python3.10/dist-packages (from altair<6,>=4.0->streamlit) (4.23.0)\r\n",
      "Requirement already satisfied: narwhals>=1.14.2 in /usr/local/lib/python3.10/dist-packages (from altair<6,>=4.0->streamlit) (1.18.4)\r\n",
      "Requirement already satisfied: gitdb<5,>=4.0.1 in /usr/local/lib/python3.10/dist-packages (from gitpython!=3.1.19,<4,>=3.0.7->streamlit) (4.0.11)\r\n",
      "Requirement already satisfied: python-dateutil>=2.8.2 in /usr/local/lib/python3.10/dist-packages (from pandas<3,>=1.4.0->streamlit) (2.8.2)\r\n",
      "Requirement already satisfied: pytz>=2020.1 in /usr/local/lib/python3.10/dist-packages (from pandas<3,>=1.4.0->streamlit) (2024.2)\r\n",
      "Requirement already satisfied: tzdata>=2022.1 in /usr/local/lib/python3.10/dist-packages (from pandas<3,>=1.4.0->streamlit) (2024.1)\r\n",
      "Requirement already satisfied: charset-normalizer<4,>=2 in /usr/local/lib/python3.10/dist-packages (from requests<3,>=2.27->streamlit) (3.3.2)\r\n",
      "Requirement already satisfied: idna<4,>=2.5 in /usr/local/lib/python3.10/dist-packages (from requests<3,>=2.27->streamlit) (3.10)\r\n",
      "Requirement already satisfied: urllib3<3,>=1.21.1 in /usr/local/lib/python3.10/dist-packages (from requests<3,>=2.27->streamlit) (2.2.3)\r\n",
      "Requirement already satisfied: certifi>=2017.4.17 in /usr/local/lib/python3.10/dist-packages (from requests<3,>=2.27->streamlit) (2024.8.30)\r\n",
      "Requirement already satisfied: markdown-it-py>=2.2.0 in /usr/local/lib/python3.10/dist-packages (from rich<14,>=10.14.0->streamlit) (3.0.0)\r\n",
      "Requirement already satisfied: pygments<3.0.0,>=2.13.0 in /usr/local/lib/python3.10/dist-packages (from rich<14,>=10.14.0->streamlit) (2.18.0)\r\n",
      "Requirement already satisfied: smmap<6,>=3.0.1 in /usr/local/lib/python3.10/dist-packages (from gitdb<5,>=4.0.1->gitpython!=3.1.19,<4,>=3.0.7->streamlit) (5.0.1)\r\n",
      "Requirement already satisfied: MarkupSafe>=2.0 in /usr/local/lib/python3.10/dist-packages (from jinja2->altair<6,>=4.0->streamlit) (2.1.5)\r\n",
      "Requirement already satisfied: attrs>=22.2.0 in /usr/local/lib/python3.10/dist-packages (from jsonschema>=3.0->altair<6,>=4.0->streamlit) (24.2.0)\r\n",
      "Requirement already satisfied: jsonschema-specifications>=2023.03.6 in /usr/local/lib/python3.10/dist-packages (from jsonschema>=3.0->altair<6,>=4.0->streamlit) (2023.12.1)\r\n",
      "Requirement already satisfied: referencing>=0.28.4 in /usr/local/lib/python3.10/dist-packages (from jsonschema>=3.0->altair<6,>=4.0->streamlit) (0.35.1)\r\n",
      "Requirement already satisfied: rpds-py>=0.7.1 in /usr/local/lib/python3.10/dist-packages (from jsonschema>=3.0->altair<6,>=4.0->streamlit) (0.20.0)\r\n",
      "Requirement already satisfied: mdurl~=0.1 in /usr/local/lib/python3.10/dist-packages (from markdown-it-py>=2.2.0->rich<14,>=10.14.0->streamlit) (0.1.2)\r\n",
      "Requirement already satisfied: six>=1.5 in /usr/local/lib/python3.10/dist-packages (from python-dateutil>=2.8.2->pandas<3,>=1.4.0->streamlit) (1.16.0)\r\n",
      "Downloading streamlit-1.41.1-py2.py3-none-any.whl (9.1 MB)\r\n",
      "\u001b[2K   \u001b[90m━━━━━━━━━━━━━━━━━━━━━━━━━━━━━━━━━━━━━━━━\u001b[0m \u001b[32m9.1/9.1 MB\u001b[0m \u001b[31m65.4 MB/s\u001b[0m eta \u001b[36m0:00:00\u001b[0m\r\n",
      "\u001b[?25hDownloading pydeck-0.9.1-py2.py3-none-any.whl (6.9 MB)\r\n",
      "\u001b[2K   \u001b[90m━━━━━━━━━━━━━━━━━━━━━━━━━━━━━━━━━━━━━━━━\u001b[0m \u001b[32m6.9/6.9 MB\u001b[0m \u001b[31m69.6 MB/s\u001b[0m eta \u001b[36m0:00:00\u001b[0m\r\n",
      "\u001b[?25hInstalling collected packages: pydeck, streamlit\r\n",
      "Successfully installed pydeck-0.9.1 streamlit-1.41.1\r\n"
     ]
    }
   ],
   "source": [
    "!pip install streamlit"
   ]
  },
  {
   "cell_type": "code",
   "execution_count": 2,
   "id": "2dadf91f",
   "metadata": {
    "_cell_guid": "b1076dfc-b9ad-4769-8c92-a6c4dae69d19",
    "_uuid": "8f2839f25d086af736a60e9eeb907d3b93b6e0e5",
    "execution": {
     "iopub.execute_input": "2025-01-14T09:33:47.532717Z",
     "iopub.status.busy": "2025-01-14T09:33:47.532309Z",
     "iopub.status.idle": "2025-01-14T09:33:50.392459Z",
     "shell.execute_reply": "2025-01-14T09:33:50.391192Z"
    },
    "papermill": {
     "duration": 2.868593,
     "end_time": "2025-01-14T09:33:50.394538",
     "exception": false,
     "start_time": "2025-01-14T09:33:47.525945",
     "status": "completed"
    },
    "tags": []
   },
   "outputs": [],
   "source": [
    "import pandas as pd\n",
    "import numpy as np\n",
    "import matplotlib.pyplot as plt\n",
    "import seaborn as sns\n",
    "import streamlit as st"
   ]
  },
  {
   "cell_type": "code",
   "execution_count": 3,
   "id": "2df52119",
   "metadata": {
    "execution": {
     "iopub.execute_input": "2025-01-14T09:33:50.407364Z",
     "iopub.status.busy": "2025-01-14T09:33:50.406624Z",
     "iopub.status.idle": "2025-01-14T09:33:50.602072Z",
     "shell.execute_reply": "2025-01-14T09:33:50.600794Z"
    },
    "papermill": {
     "duration": 0.204124,
     "end_time": "2025-01-14T09:33:50.604053",
     "exception": false,
     "start_time": "2025-01-14T09:33:50.399929",
     "status": "completed"
    },
    "tags": []
   },
   "outputs": [],
   "source": [
    "data = pd.read_csv('/kaggle/input/realestateqatar/weekly-real-estate-newsletter.csv', delimiter = ';', encoding = 'UTF-8')"
   ]
  },
  {
   "cell_type": "code",
   "execution_count": 4,
   "id": "7326a864",
   "metadata": {
    "execution": {
     "iopub.execute_input": "2025-01-14T09:33:50.615817Z",
     "iopub.status.busy": "2025-01-14T09:33:50.615341Z",
     "iopub.status.idle": "2025-01-14T09:33:50.643101Z",
     "shell.execute_reply": "2025-01-14T09:33:50.641927Z"
    },
    "papermill": {
     "duration": 0.03554,
     "end_time": "2025-01-14T09:33:50.644863",
     "exception": false,
     "start_time": "2025-01-14T09:33:50.609323",
     "status": "completed"
    },
    "tags": []
   },
   "outputs": [
    {
     "data": {
      "text/html": [
       "<div>\n",
       "<style scoped>\n",
       "    .dataframe tbody tr th:only-of-type {\n",
       "        vertical-align: middle;\n",
       "    }\n",
       "\n",
       "    .dataframe tbody tr th {\n",
       "        vertical-align: top;\n",
       "    }\n",
       "\n",
       "    .dataframe thead th {\n",
       "        text-align: right;\n",
       "    }\n",
       "</style>\n",
       "<table border=\"1\" class=\"dataframe\">\n",
       "  <thead>\n",
       "    <tr style=\"text-align: right;\">\n",
       "      <th></th>\n",
       "      <th>Date of Contract</th>\n",
       "      <th>Municipality Name</th>\n",
       "      <th>اسم البلدية</th>\n",
       "      <th>Zone Name</th>\n",
       "      <th>اسم المنطقة</th>\n",
       "      <th>Real Estate Type</th>\n",
       "      <th>نوع العقار</th>\n",
       "      <th>Area in Square Meters</th>\n",
       "      <th>Price per Square Foot</th>\n",
       "      <th>Real Estate Value</th>\n",
       "      <th>geo_point_2d</th>\n",
       "    </tr>\n",
       "  </thead>\n",
       "  <tbody>\n",
       "    <tr>\n",
       "      <th>0</th>\n",
       "      <td>2025-01-02</td>\n",
       "      <td>Al Daayen</td>\n",
       "      <td>الظعاين</td>\n",
       "      <td>Al Ebb</td>\n",
       "      <td>العب</td>\n",
       "      <td>Residence</td>\n",
       "      <td>مسكن</td>\n",
       "      <td>600</td>\n",
       "      <td>681.0</td>\n",
       "      <td>4400000</td>\n",
       "      <td>25.506442965229745, 51.466419091145966</td>\n",
       "    </tr>\n",
       "    <tr>\n",
       "      <th>1</th>\n",
       "      <td>2025-01-02</td>\n",
       "      <td>Umm Slal</td>\n",
       "      <td>أم صلال</td>\n",
       "      <td>Umm Slal Ali</td>\n",
       "      <td>ام صلال علي</td>\n",
       "      <td>Residence</td>\n",
       "      <td>مسكن</td>\n",
       "      <td>1175</td>\n",
       "      <td>190.0</td>\n",
       "      <td>2400000</td>\n",
       "      <td>25.468814293441394, 51.34446945529472</td>\n",
       "    </tr>\n",
       "    <tr>\n",
       "      <th>2</th>\n",
       "      <td>2025-01-02</td>\n",
       "      <td>Doha</td>\n",
       "      <td>الدوحة</td>\n",
       "      <td>Al Mansoura</td>\n",
       "      <td>المنصوره</td>\n",
       "      <td>Residence</td>\n",
       "      <td>مسكن</td>\n",
       "      <td>687</td>\n",
       "      <td>723.0</td>\n",
       "      <td>5350000</td>\n",
       "      <td>25.277967458892473, 51.52339248614074</td>\n",
       "    </tr>\n",
       "    <tr>\n",
       "      <th>3</th>\n",
       "      <td>2025-01-02</td>\n",
       "      <td>Doha</td>\n",
       "      <td>الدوحة</td>\n",
       "      <td>Madinat Khalifa South</td>\n",
       "      <td>مدينة خليفة الجنوبية</td>\n",
       "      <td>Shops</td>\n",
       "      <td>محل</td>\n",
       "      <td>594</td>\n",
       "      <td>978.0</td>\n",
       "      <td>6250000</td>\n",
       "      <td>25.277967458892473, 51.52339248614074</td>\n",
       "    </tr>\n",
       "    <tr>\n",
       "      <th>4</th>\n",
       "      <td>2025-01-02</td>\n",
       "      <td>Doha</td>\n",
       "      <td>الدوحة</td>\n",
       "      <td>Madinat Khalifa North</td>\n",
       "      <td>مدينة خليفة الشمالية</td>\n",
       "      <td>Residence</td>\n",
       "      <td>مسكن</td>\n",
       "      <td>753</td>\n",
       "      <td>771.0</td>\n",
       "      <td>6250000</td>\n",
       "      <td>25.277967458892473, 51.52339248614074</td>\n",
       "    </tr>\n",
       "  </tbody>\n",
       "</table>\n",
       "</div>"
      ],
      "text/plain": [
       "  Date of Contract Municipality Name اسم البلدية              Zone Name  \\\n",
       "0       2025-01-02         Al Daayen     الظعاين                 Al Ebb   \n",
       "1       2025-01-02          Umm Slal     أم صلال           Umm Slal Ali   \n",
       "2       2025-01-02              Doha      الدوحة            Al Mansoura   \n",
       "3       2025-01-02              Doha      الدوحة  Madinat Khalifa South   \n",
       "4       2025-01-02              Doha      الدوحة  Madinat Khalifa North   \n",
       "\n",
       "            اسم المنطقة Real Estate Type نوع العقار  Area in Square Meters  \\\n",
       "0                  العب        Residence       مسكن                    600   \n",
       "1           ام صلال علي        Residence       مسكن                   1175   \n",
       "2              المنصوره        Residence       مسكن                    687   \n",
       "3  مدينة خليفة الجنوبية            Shops        محل                    594   \n",
       "4  مدينة خليفة الشمالية        Residence       مسكن                    753   \n",
       "\n",
       "   Price per Square Foot  Real Estate Value  \\\n",
       "0                  681.0            4400000   \n",
       "1                  190.0            2400000   \n",
       "2                  723.0            5350000   \n",
       "3                  978.0            6250000   \n",
       "4                  771.0            6250000   \n",
       "\n",
       "                             geo_point_2d  \n",
       "0  25.506442965229745, 51.466419091145966  \n",
       "1   25.468814293441394, 51.34446945529472  \n",
       "2   25.277967458892473, 51.52339248614074  \n",
       "3   25.277967458892473, 51.52339248614074  \n",
       "4   25.277967458892473, 51.52339248614074  "
      ]
     },
     "execution_count": 4,
     "metadata": {},
     "output_type": "execute_result"
    }
   ],
   "source": [
    "data.head()"
   ]
  },
  {
   "cell_type": "code",
   "execution_count": 5,
   "id": "2d433f7a",
   "metadata": {
    "execution": {
     "iopub.execute_input": "2025-01-14T09:33:50.657594Z",
     "iopub.status.busy": "2025-01-14T09:33:50.657217Z",
     "iopub.status.idle": "2025-01-14T09:33:50.663313Z",
     "shell.execute_reply": "2025-01-14T09:33:50.662250Z"
    },
    "papermill": {
     "duration": 0.014214,
     "end_time": "2025-01-14T09:33:50.665147",
     "exception": false,
     "start_time": "2025-01-14T09:33:50.650933",
     "status": "completed"
    },
    "tags": []
   },
   "outputs": [
    {
     "data": {
      "text/plain": [
       "(20440, 11)"
      ]
     },
     "execution_count": 5,
     "metadata": {},
     "output_type": "execute_result"
    }
   ],
   "source": [
    "data.shape"
   ]
  },
  {
   "cell_type": "code",
   "execution_count": 6,
   "id": "49997ce6",
   "metadata": {
    "execution": {
     "iopub.execute_input": "2025-01-14T09:33:50.677906Z",
     "iopub.status.busy": "2025-01-14T09:33:50.677477Z",
     "iopub.status.idle": "2025-01-14T09:33:50.685604Z",
     "shell.execute_reply": "2025-01-14T09:33:50.684208Z"
    },
    "papermill": {
     "duration": 0.016933,
     "end_time": "2025-01-14T09:33:50.687779",
     "exception": false,
     "start_time": "2025-01-14T09:33:50.670846",
     "status": "completed"
    },
    "tags": []
   },
   "outputs": [
    {
     "data": {
      "text/plain": [
       "Index(['Date of Contract', 'Municipality Name', 'اسم البلدية', 'Zone Name',\n",
       "       'اسم المنطقة', 'Real Estate Type', 'نوع العقار',\n",
       "       'Area in Square Meters', 'Price per Square Foot', 'Real Estate Value',\n",
       "       'geo_point_2d'],\n",
       "      dtype='object')"
      ]
     },
     "execution_count": 6,
     "metadata": {},
     "output_type": "execute_result"
    }
   ],
   "source": [
    "data.columns"
   ]
  },
  {
   "cell_type": "code",
   "execution_count": 7,
   "id": "ec66def3",
   "metadata": {
    "execution": {
     "iopub.execute_input": "2025-01-14T09:33:50.701310Z",
     "iopub.status.busy": "2025-01-14T09:33:50.700791Z",
     "iopub.status.idle": "2025-01-14T09:33:50.720278Z",
     "shell.execute_reply": "2025-01-14T09:33:50.718833Z"
    },
    "papermill": {
     "duration": 0.028211,
     "end_time": "2025-01-14T09:33:50.722216",
     "exception": false,
     "start_time": "2025-01-14T09:33:50.694005",
     "status": "completed"
    },
    "tags": []
   },
   "outputs": [
    {
     "name": "stdout",
     "output_type": "stream",
     "text": [
      "  Date of Contract Municipality Name              Zone Name Real Estate Type  \\\n",
      "0       2025-01-02         Al Daayen                 Al Ebb        Residence   \n",
      "1       2025-01-02          Umm Slal           Umm Slal Ali        Residence   \n",
      "2       2025-01-02              Doha            Al Mansoura        Residence   \n",
      "3       2025-01-02              Doha  Madinat Khalifa South            Shops   \n",
      "4       2025-01-02              Doha  Madinat Khalifa North        Residence   \n",
      "\n",
      "   Area in Square Meters  Price per Square Foot  Real Estate Value  \\\n",
      "0                    600                  681.0            4400000   \n",
      "1                   1175                  190.0            2400000   \n",
      "2                    687                  723.0            5350000   \n",
      "3                    594                  978.0            6250000   \n",
      "4                    753                  771.0            6250000   \n",
      "\n",
      "                             geo_point_2d  \n",
      "0  25.506442965229745, 51.466419091145966  \n",
      "1   25.468814293441394, 51.34446945529472  \n",
      "2   25.277967458892473, 51.52339248614074  \n",
      "3   25.277967458892473, 51.52339248614074  \n",
      "4   25.277967458892473, 51.52339248614074  \n"
     ]
    }
   ],
   "source": [
    "import re\n",
    "\n",
    "# Define a function to check if a string contains Arabic characters\n",
    "def contains_arabic(s):\n",
    "    arabic_re = re.compile(r'[\\u0600-\\u06FF]')\n",
    "    return bool(arabic_re.search(s))\n",
    "\n",
    "# Identify columns with Arabic names\n",
    "columns_to_drop = [col for col in data.columns if contains_arabic(col)]\n",
    "\n",
    "# Drop the identified columns\n",
    "df_english = data.drop(columns=columns_to_drop)\n",
    "\n",
    "# Display the cleaned DataFrame\n",
    "print(df_english.head())"
   ]
  },
  {
   "cell_type": "code",
   "execution_count": 8,
   "id": "6b395889",
   "metadata": {
    "execution": {
     "iopub.execute_input": "2025-01-14T09:33:50.735422Z",
     "iopub.status.busy": "2025-01-14T09:33:50.735001Z",
     "iopub.status.idle": "2025-01-14T09:33:50.739291Z",
     "shell.execute_reply": "2025-01-14T09:33:50.738169Z"
    },
    "papermill": {
     "duration": 0.012923,
     "end_time": "2025-01-14T09:33:50.741226",
     "exception": false,
     "start_time": "2025-01-14T09:33:50.728303",
     "status": "completed"
    },
    "tags": []
   },
   "outputs": [],
   "source": [
    "df = df_english"
   ]
  },
  {
   "cell_type": "code",
   "execution_count": 9,
   "id": "6ae69aa6",
   "metadata": {
    "execution": {
     "iopub.execute_input": "2025-01-14T09:33:50.754071Z",
     "iopub.status.busy": "2025-01-14T09:33:50.753675Z",
     "iopub.status.idle": "2025-01-14T09:33:50.769163Z",
     "shell.execute_reply": "2025-01-14T09:33:50.768014Z"
    },
    "papermill": {
     "duration": 0.023923,
     "end_time": "2025-01-14T09:33:50.771015",
     "exception": false,
     "start_time": "2025-01-14T09:33:50.747092",
     "status": "completed"
    },
    "tags": []
   },
   "outputs": [
    {
     "data": {
      "text/html": [
       "<div>\n",
       "<style scoped>\n",
       "    .dataframe tbody tr th:only-of-type {\n",
       "        vertical-align: middle;\n",
       "    }\n",
       "\n",
       "    .dataframe tbody tr th {\n",
       "        vertical-align: top;\n",
       "    }\n",
       "\n",
       "    .dataframe thead th {\n",
       "        text-align: right;\n",
       "    }\n",
       "</style>\n",
       "<table border=\"1\" class=\"dataframe\">\n",
       "  <thead>\n",
       "    <tr style=\"text-align: right;\">\n",
       "      <th></th>\n",
       "      <th>Date of Contract</th>\n",
       "      <th>Municipality Name</th>\n",
       "      <th>Zone Name</th>\n",
       "      <th>Real Estate Type</th>\n",
       "      <th>Area in Square Meters</th>\n",
       "      <th>Price per Square Foot</th>\n",
       "      <th>Real Estate Value</th>\n",
       "      <th>geo_point_2d</th>\n",
       "    </tr>\n",
       "  </thead>\n",
       "  <tbody>\n",
       "    <tr>\n",
       "      <th>0</th>\n",
       "      <td>2025-01-02</td>\n",
       "      <td>Al Daayen</td>\n",
       "      <td>Al Ebb</td>\n",
       "      <td>Residence</td>\n",
       "      <td>600</td>\n",
       "      <td>681.000000</td>\n",
       "      <td>4400000</td>\n",
       "      <td>25.506442965229745, 51.466419091145966</td>\n",
       "    </tr>\n",
       "    <tr>\n",
       "      <th>1</th>\n",
       "      <td>2025-01-02</td>\n",
       "      <td>Umm Slal</td>\n",
       "      <td>Umm Slal Ali</td>\n",
       "      <td>Residence</td>\n",
       "      <td>1175</td>\n",
       "      <td>190.000000</td>\n",
       "      <td>2400000</td>\n",
       "      <td>25.468814293441394, 51.34446945529472</td>\n",
       "    </tr>\n",
       "    <tr>\n",
       "      <th>2</th>\n",
       "      <td>2025-01-02</td>\n",
       "      <td>Doha</td>\n",
       "      <td>Al Mansoura</td>\n",
       "      <td>Residence</td>\n",
       "      <td>687</td>\n",
       "      <td>723.000000</td>\n",
       "      <td>5350000</td>\n",
       "      <td>25.277967458892473, 51.52339248614074</td>\n",
       "    </tr>\n",
       "    <tr>\n",
       "      <th>3</th>\n",
       "      <td>2025-01-02</td>\n",
       "      <td>Doha</td>\n",
       "      <td>Madinat Khalifa South</td>\n",
       "      <td>Shops</td>\n",
       "      <td>594</td>\n",
       "      <td>978.000000</td>\n",
       "      <td>6250000</td>\n",
       "      <td>25.277967458892473, 51.52339248614074</td>\n",
       "    </tr>\n",
       "    <tr>\n",
       "      <th>4</th>\n",
       "      <td>2025-01-02</td>\n",
       "      <td>Doha</td>\n",
       "      <td>Madinat Khalifa North</td>\n",
       "      <td>Residence</td>\n",
       "      <td>753</td>\n",
       "      <td>771.000000</td>\n",
       "      <td>6250000</td>\n",
       "      <td>25.277967458892473, 51.52339248614074</td>\n",
       "    </tr>\n",
       "    <tr>\n",
       "      <th>...</th>\n",
       "      <td>...</td>\n",
       "      <td>...</td>\n",
       "      <td>...</td>\n",
       "      <td>...</td>\n",
       "      <td>...</td>\n",
       "      <td>...</td>\n",
       "      <td>...</td>\n",
       "      <td>...</td>\n",
       "    </tr>\n",
       "    <tr>\n",
       "      <th>20435</th>\n",
       "      <td>2020-02-16</td>\n",
       "      <td>Al Rayyan</td>\n",
       "      <td>Al Aziziya</td>\n",
       "      <td>Residence</td>\n",
       "      <td>900</td>\n",
       "      <td>381.932000</td>\n",
       "      <td>3700000</td>\n",
       "      <td>24.928100723590358, 51.08167176463156</td>\n",
       "    </tr>\n",
       "    <tr>\n",
       "      <th>20436</th>\n",
       "      <td>2020-01-15</td>\n",
       "      <td>Al Wakrah</td>\n",
       "      <td>Al Wakrah</td>\n",
       "      <td>Vacant Land</td>\n",
       "      <td>505</td>\n",
       "      <td>279.995000</td>\n",
       "      <td>1522000</td>\n",
       "      <td>NaN</td>\n",
       "    </tr>\n",
       "    <tr>\n",
       "      <th>20437</th>\n",
       "      <td>2020-01-09</td>\n",
       "      <td>Doha</td>\n",
       "      <td>Al Thumama</td>\n",
       "      <td>Vacant Land</td>\n",
       "      <td>491</td>\n",
       "      <td>321.658000</td>\n",
       "      <td>1700000</td>\n",
       "      <td>25.277967458892473, 51.52339248614074</td>\n",
       "    </tr>\n",
       "    <tr>\n",
       "      <th>20438</th>\n",
       "      <td>2019-12-15</td>\n",
       "      <td>Al Rayyan</td>\n",
       "      <td>Izghawa</td>\n",
       "      <td>Vacant Land</td>\n",
       "      <td>771</td>\n",
       "      <td>361.287000</td>\n",
       "      <td>2999999</td>\n",
       "      <td>24.928100723590358, 51.08167176463156</td>\n",
       "    </tr>\n",
       "    <tr>\n",
       "      <th>20439</th>\n",
       "      <td>2019-03-19</td>\n",
       "      <td>Al Rayyan</td>\n",
       "      <td>Al Maamoura</td>\n",
       "      <td>Vacant Land</td>\n",
       "      <td>488</td>\n",
       "      <td>300.019037</td>\n",
       "      <td>1576000</td>\n",
       "      <td>24.928100723590358, 51.08167176463156</td>\n",
       "    </tr>\n",
       "  </tbody>\n",
       "</table>\n",
       "<p>20440 rows × 8 columns</p>\n",
       "</div>"
      ],
      "text/plain": [
       "      Date of Contract Municipality Name              Zone Name  \\\n",
       "0           2025-01-02         Al Daayen                 Al Ebb   \n",
       "1           2025-01-02          Umm Slal           Umm Slal Ali   \n",
       "2           2025-01-02              Doha            Al Mansoura   \n",
       "3           2025-01-02              Doha  Madinat Khalifa South   \n",
       "4           2025-01-02              Doha  Madinat Khalifa North   \n",
       "...                ...               ...                    ...   \n",
       "20435       2020-02-16         Al Rayyan             Al Aziziya   \n",
       "20436       2020-01-15         Al Wakrah              Al Wakrah   \n",
       "20437       2020-01-09              Doha             Al Thumama   \n",
       "20438       2019-12-15         Al Rayyan                Izghawa   \n",
       "20439       2019-03-19         Al Rayyan            Al Maamoura   \n",
       "\n",
       "      Real Estate Type  Area in Square Meters  Price per Square Foot  \\\n",
       "0            Residence                    600             681.000000   \n",
       "1            Residence                   1175             190.000000   \n",
       "2            Residence                    687             723.000000   \n",
       "3                Shops                    594             978.000000   \n",
       "4            Residence                    753             771.000000   \n",
       "...                ...                    ...                    ...   \n",
       "20435        Residence                    900             381.932000   \n",
       "20436      Vacant Land                    505             279.995000   \n",
       "20437      Vacant Land                    491             321.658000   \n",
       "20438      Vacant Land                    771             361.287000   \n",
       "20439      Vacant Land                    488             300.019037   \n",
       "\n",
       "       Real Estate Value                            geo_point_2d  \n",
       "0                4400000  25.506442965229745, 51.466419091145966  \n",
       "1                2400000   25.468814293441394, 51.34446945529472  \n",
       "2                5350000   25.277967458892473, 51.52339248614074  \n",
       "3                6250000   25.277967458892473, 51.52339248614074  \n",
       "4                6250000   25.277967458892473, 51.52339248614074  \n",
       "...                  ...                                     ...  \n",
       "20435            3700000   24.928100723590358, 51.08167176463156  \n",
       "20436            1522000                                     NaN  \n",
       "20437            1700000   25.277967458892473, 51.52339248614074  \n",
       "20438            2999999   24.928100723590358, 51.08167176463156  \n",
       "20439            1576000   24.928100723590358, 51.08167176463156  \n",
       "\n",
       "[20440 rows x 8 columns]"
      ]
     },
     "execution_count": 9,
     "metadata": {},
     "output_type": "execute_result"
    }
   ],
   "source": [
    "df"
   ]
  },
  {
   "cell_type": "code",
   "execution_count": 10,
   "id": "2df7dc35",
   "metadata": {
    "execution": {
     "iopub.execute_input": "2025-01-14T09:33:50.784625Z",
     "iopub.status.busy": "2025-01-14T09:33:50.784271Z",
     "iopub.status.idle": "2025-01-14T09:33:50.804902Z",
     "shell.execute_reply": "2025-01-14T09:33:50.803769Z"
    },
    "papermill": {
     "duration": 0.029581,
     "end_time": "2025-01-14T09:33:50.807004",
     "exception": false,
     "start_time": "2025-01-14T09:33:50.777423",
     "status": "completed"
    },
    "tags": []
   },
   "outputs": [
    {
     "data": {
      "text/plain": [
       "Date of Contract            0\n",
       "Municipality Name           0\n",
       "Zone Name                   0\n",
       "Real Estate Type            0\n",
       "Area in Square Meters       0\n",
       "Price per Square Foot       0\n",
       "Real Estate Value           0\n",
       "geo_point_2d             3263\n",
       "dtype: int64"
      ]
     },
     "execution_count": 10,
     "metadata": {},
     "output_type": "execute_result"
    }
   ],
   "source": [
    "df.isnull().sum()"
   ]
  },
  {
   "cell_type": "code",
   "execution_count": 11,
   "id": "c8cd865f",
   "metadata": {
    "execution": {
     "iopub.execute_input": "2025-01-14T09:33:50.820698Z",
     "iopub.status.busy": "2025-01-14T09:33:50.820349Z",
     "iopub.status.idle": "2025-01-14T09:33:50.826605Z",
     "shell.execute_reply": "2025-01-14T09:33:50.825403Z"
    },
    "papermill": {
     "duration": 0.015007,
     "end_time": "2025-01-14T09:33:50.828420",
     "exception": false,
     "start_time": "2025-01-14T09:33:50.813413",
     "status": "completed"
    },
    "tags": []
   },
   "outputs": [
    {
     "data": {
      "text/plain": [
       "Index(['Date of Contract', 'Municipality Name', 'Zone Name',\n",
       "       'Real Estate Type', 'Area in Square Meters', 'Price per Square Foot',\n",
       "       'Real Estate Value', 'geo_point_2d'],\n",
       "      dtype='object')"
      ]
     },
     "execution_count": 11,
     "metadata": {},
     "output_type": "execute_result"
    }
   ],
   "source": [
    "df.columns"
   ]
  },
  {
   "cell_type": "code",
   "execution_count": 12,
   "id": "4bc1b926",
   "metadata": {
    "execution": {
     "iopub.execute_input": "2025-01-14T09:33:50.842587Z",
     "iopub.status.busy": "2025-01-14T09:33:50.842203Z",
     "iopub.status.idle": "2025-01-14T09:33:50.857409Z",
     "shell.execute_reply": "2025-01-14T09:33:50.856339Z"
    },
    "papermill": {
     "duration": 0.024452,
     "end_time": "2025-01-14T09:33:50.859193",
     "exception": false,
     "start_time": "2025-01-14T09:33:50.834741",
     "status": "completed"
    },
    "tags": []
   },
   "outputs": [
    {
     "data": {
      "text/html": [
       "<div>\n",
       "<style scoped>\n",
       "    .dataframe tbody tr th:only-of-type {\n",
       "        vertical-align: middle;\n",
       "    }\n",
       "\n",
       "    .dataframe tbody tr th {\n",
       "        vertical-align: top;\n",
       "    }\n",
       "\n",
       "    .dataframe thead th {\n",
       "        text-align: right;\n",
       "    }\n",
       "</style>\n",
       "<table border=\"1\" class=\"dataframe\">\n",
       "  <thead>\n",
       "    <tr style=\"text-align: right;\">\n",
       "      <th></th>\n",
       "      <th>Date of Contract</th>\n",
       "      <th>Municipality Name</th>\n",
       "      <th>Zone Name</th>\n",
       "      <th>Real Estate Type</th>\n",
       "      <th>Area in Square Meters</th>\n",
       "      <th>Price per Square Foot</th>\n",
       "      <th>Real Estate Value</th>\n",
       "      <th>geo_point_2d</th>\n",
       "    </tr>\n",
       "  </thead>\n",
       "  <tbody>\n",
       "    <tr>\n",
       "      <th>0</th>\n",
       "      <td>2025-01-02</td>\n",
       "      <td>Al Daayen</td>\n",
       "      <td>Al Ebb</td>\n",
       "      <td>Residence</td>\n",
       "      <td>600</td>\n",
       "      <td>681.000000</td>\n",
       "      <td>4400000</td>\n",
       "      <td>25.506442965229745, 51.466419091145966</td>\n",
       "    </tr>\n",
       "    <tr>\n",
       "      <th>1</th>\n",
       "      <td>2025-01-02</td>\n",
       "      <td>Umm Slal</td>\n",
       "      <td>Umm Slal Ali</td>\n",
       "      <td>Residence</td>\n",
       "      <td>1175</td>\n",
       "      <td>190.000000</td>\n",
       "      <td>2400000</td>\n",
       "      <td>25.468814293441394, 51.34446945529472</td>\n",
       "    </tr>\n",
       "    <tr>\n",
       "      <th>2</th>\n",
       "      <td>2025-01-02</td>\n",
       "      <td>Doha</td>\n",
       "      <td>Al Mansoura</td>\n",
       "      <td>Residence</td>\n",
       "      <td>687</td>\n",
       "      <td>723.000000</td>\n",
       "      <td>5350000</td>\n",
       "      <td>25.277967458892473, 51.52339248614074</td>\n",
       "    </tr>\n",
       "    <tr>\n",
       "      <th>3</th>\n",
       "      <td>2025-01-02</td>\n",
       "      <td>Doha</td>\n",
       "      <td>Madinat Khalifa South</td>\n",
       "      <td>Shops</td>\n",
       "      <td>594</td>\n",
       "      <td>978.000000</td>\n",
       "      <td>6250000</td>\n",
       "      <td>25.277967458892473, 51.52339248614074</td>\n",
       "    </tr>\n",
       "    <tr>\n",
       "      <th>4</th>\n",
       "      <td>2025-01-02</td>\n",
       "      <td>Doha</td>\n",
       "      <td>Madinat Khalifa North</td>\n",
       "      <td>Residence</td>\n",
       "      <td>753</td>\n",
       "      <td>771.000000</td>\n",
       "      <td>6250000</td>\n",
       "      <td>25.277967458892473, 51.52339248614074</td>\n",
       "    </tr>\n",
       "    <tr>\n",
       "      <th>...</th>\n",
       "      <td>...</td>\n",
       "      <td>...</td>\n",
       "      <td>...</td>\n",
       "      <td>...</td>\n",
       "      <td>...</td>\n",
       "      <td>...</td>\n",
       "      <td>...</td>\n",
       "      <td>...</td>\n",
       "    </tr>\n",
       "    <tr>\n",
       "      <th>20435</th>\n",
       "      <td>2020-02-16</td>\n",
       "      <td>Al Rayyan</td>\n",
       "      <td>Al Aziziya</td>\n",
       "      <td>Residence</td>\n",
       "      <td>900</td>\n",
       "      <td>381.932000</td>\n",
       "      <td>3700000</td>\n",
       "      <td>24.928100723590358, 51.08167176463156</td>\n",
       "    </tr>\n",
       "    <tr>\n",
       "      <th>20436</th>\n",
       "      <td>2020-01-15</td>\n",
       "      <td>Al Wakrah</td>\n",
       "      <td>Al Wakrah</td>\n",
       "      <td>Vacant Land</td>\n",
       "      <td>505</td>\n",
       "      <td>279.995000</td>\n",
       "      <td>1522000</td>\n",
       "      <td>NaN</td>\n",
       "    </tr>\n",
       "    <tr>\n",
       "      <th>20437</th>\n",
       "      <td>2020-01-09</td>\n",
       "      <td>Doha</td>\n",
       "      <td>Al Thumama</td>\n",
       "      <td>Vacant Land</td>\n",
       "      <td>491</td>\n",
       "      <td>321.658000</td>\n",
       "      <td>1700000</td>\n",
       "      <td>25.277967458892473, 51.52339248614074</td>\n",
       "    </tr>\n",
       "    <tr>\n",
       "      <th>20438</th>\n",
       "      <td>2019-12-15</td>\n",
       "      <td>Al Rayyan</td>\n",
       "      <td>Izghawa</td>\n",
       "      <td>Vacant Land</td>\n",
       "      <td>771</td>\n",
       "      <td>361.287000</td>\n",
       "      <td>2999999</td>\n",
       "      <td>24.928100723590358, 51.08167176463156</td>\n",
       "    </tr>\n",
       "    <tr>\n",
       "      <th>20439</th>\n",
       "      <td>2019-03-19</td>\n",
       "      <td>Al Rayyan</td>\n",
       "      <td>Al Maamoura</td>\n",
       "      <td>Vacant Land</td>\n",
       "      <td>488</td>\n",
       "      <td>300.019037</td>\n",
       "      <td>1576000</td>\n",
       "      <td>24.928100723590358, 51.08167176463156</td>\n",
       "    </tr>\n",
       "  </tbody>\n",
       "</table>\n",
       "<p>20440 rows × 8 columns</p>\n",
       "</div>"
      ],
      "text/plain": [
       "      Date of Contract Municipality Name              Zone Name  \\\n",
       "0           2025-01-02         Al Daayen                 Al Ebb   \n",
       "1           2025-01-02          Umm Slal           Umm Slal Ali   \n",
       "2           2025-01-02              Doha            Al Mansoura   \n",
       "3           2025-01-02              Doha  Madinat Khalifa South   \n",
       "4           2025-01-02              Doha  Madinat Khalifa North   \n",
       "...                ...               ...                    ...   \n",
       "20435       2020-02-16         Al Rayyan             Al Aziziya   \n",
       "20436       2020-01-15         Al Wakrah              Al Wakrah   \n",
       "20437       2020-01-09              Doha             Al Thumama   \n",
       "20438       2019-12-15         Al Rayyan                Izghawa   \n",
       "20439       2019-03-19         Al Rayyan            Al Maamoura   \n",
       "\n",
       "      Real Estate Type  Area in Square Meters  Price per Square Foot  \\\n",
       "0            Residence                    600             681.000000   \n",
       "1            Residence                   1175             190.000000   \n",
       "2            Residence                    687             723.000000   \n",
       "3                Shops                    594             978.000000   \n",
       "4            Residence                    753             771.000000   \n",
       "...                ...                    ...                    ...   \n",
       "20435        Residence                    900             381.932000   \n",
       "20436      Vacant Land                    505             279.995000   \n",
       "20437      Vacant Land                    491             321.658000   \n",
       "20438      Vacant Land                    771             361.287000   \n",
       "20439      Vacant Land                    488             300.019037   \n",
       "\n",
       "       Real Estate Value                            geo_point_2d  \n",
       "0                4400000  25.506442965229745, 51.466419091145966  \n",
       "1                2400000   25.468814293441394, 51.34446945529472  \n",
       "2                5350000   25.277967458892473, 51.52339248614074  \n",
       "3                6250000   25.277967458892473, 51.52339248614074  \n",
       "4                6250000   25.277967458892473, 51.52339248614074  \n",
       "...                  ...                                     ...  \n",
       "20435            3700000   24.928100723590358, 51.08167176463156  \n",
       "20436            1522000                                     NaN  \n",
       "20437            1700000   25.277967458892473, 51.52339248614074  \n",
       "20438            2999999   24.928100723590358, 51.08167176463156  \n",
       "20439            1576000   24.928100723590358, 51.08167176463156  \n",
       "\n",
       "[20440 rows x 8 columns]"
      ]
     },
     "execution_count": 12,
     "metadata": {},
     "output_type": "execute_result"
    }
   ],
   "source": [
    "df"
   ]
  },
  {
   "cell_type": "code",
   "execution_count": 13,
   "id": "d81557af",
   "metadata": {
    "execution": {
     "iopub.execute_input": "2025-01-14T09:33:50.873648Z",
     "iopub.status.busy": "2025-01-14T09:33:50.873254Z",
     "iopub.status.idle": "2025-01-14T09:33:50.886539Z",
     "shell.execute_reply": "2025-01-14T09:33:50.885188Z"
    },
    "papermill": {
     "duration": 0.022504,
     "end_time": "2025-01-14T09:33:50.888293",
     "exception": false,
     "start_time": "2025-01-14T09:33:50.865789",
     "status": "completed"
    },
    "tags": []
   },
   "outputs": [
    {
     "data": {
      "text/plain": [
       "Municipality Name\n",
       "Doha                      5729\n",
       "Al Rayyan                 4972\n",
       "Al Daayen                 3563\n",
       "Umm Slal                  2016\n",
       "Al Wakrah                 2015\n",
       "Al Khor and Al Dakhira    1148\n",
       "Al Shamal                  845\n",
       "Al Sheehaniya               52\n",
       "Al Doha                     48\n",
       "Al wakra                    45\n",
       "Al Khor and Al Khor          4\n",
       "Umm SlaUmm Slal              3\n",
       "Name: count, dtype: int64"
      ]
     },
     "execution_count": 13,
     "metadata": {},
     "output_type": "execute_result"
    }
   ],
   "source": [
    "df['Municipality Name'].value_counts()"
   ]
  },
  {
   "cell_type": "code",
   "execution_count": 14,
   "id": "6c0b8e1d",
   "metadata": {
    "execution": {
     "iopub.execute_input": "2025-01-14T09:33:50.903176Z",
     "iopub.status.busy": "2025-01-14T09:33:50.902782Z",
     "iopub.status.idle": "2025-01-14T09:33:50.912768Z",
     "shell.execute_reply": "2025-01-14T09:33:50.911464Z"
    },
    "papermill": {
     "duration": 0.019611,
     "end_time": "2025-01-14T09:33:50.914792",
     "exception": false,
     "start_time": "2025-01-14T09:33:50.895181",
     "status": "completed"
    },
    "tags": []
   },
   "outputs": [
    {
     "data": {
      "text/plain": [
       "Zone Name\n",
       "Umm Qarn            1152\n",
       "Al Wukair           1080\n",
       "Al Khor              830\n",
       "Al Wakrah            751\n",
       "The Pearl Island     725\n",
       "                    ... \n",
       "gtaifiya               1\n",
       "Al Souq                1\n",
       "فريج بن محمود          1\n",
       "Afjat AlMuaither       1\n",
       "Fereej Al Murra        1\n",
       "Name: count, Length: 285, dtype: int64"
      ]
     },
     "execution_count": 14,
     "metadata": {},
     "output_type": "execute_result"
    }
   ],
   "source": [
    "df['Zone Name'].value_counts()"
   ]
  },
  {
   "cell_type": "code",
   "execution_count": 15,
   "id": "b006e259",
   "metadata": {
    "execution": {
     "iopub.execute_input": "2025-01-14T09:33:50.929592Z",
     "iopub.status.busy": "2025-01-14T09:33:50.929221Z",
     "iopub.status.idle": "2025-01-14T09:33:50.938384Z",
     "shell.execute_reply": "2025-01-14T09:33:50.937107Z"
    },
    "papermill": {
     "duration": 0.018598,
     "end_time": "2025-01-14T09:33:50.940247",
     "exception": false,
     "start_time": "2025-01-14T09:33:50.921649",
     "status": "completed"
    },
    "tags": []
   },
   "outputs": [
    {
     "data": {
      "text/plain": [
       "Real Estate Type\n",
       "Residence                                     9275\n",
       "Vacant Land                                   8385\n",
       "Residential Unit                              1272\n",
       "Residential Building                           993\n",
       "Multi-purpose Building                         149\n",
       "Apartment Complex                              145\n",
       "Commercial Building                             76\n",
       "Shops                                           46\n",
       "Multi-purpose Vacant Land                       16\n",
       "Tower                                            9\n",
       "commercial Building                              8\n",
       "Residential Tower                                8\n",
       "Residential commercial building                  6\n",
       "Residential Building and Shops                   6\n",
       "Residential  Tower                               4\n",
       "Commercial Residential Building and  Shops       3\n",
       "Administrative and commercial building           3\n",
       "Residential building                             3\n",
       "Hotel                                            3\n",
       "Commercial and AdministrativeBuilding            3\n",
       "Palace                                           3\n",
       "Building                                         2\n",
       "Hotel Appartments                                2\n",
       "Residential Building and  Shops                  2\n",
       "Administrative Building                          2\n",
       "Administrative  building                         1\n",
       "Multi-Purpose Commerial Building                 1\n",
       "Commercial and administrative building           1\n",
       "Commercial Residential Building and Shops        1\n",
       "Residential Building and Shop                    1\n",
       "Residential Building and shops                   1\n",
       "Shops and administrative offices                 1\n",
       "Building Complex                                 1\n",
       "Administrative Building and shops                1\n",
       "Commercial and Administrative building           1\n",
       "Residential Commercial Building and Shops        1\n",
       "Commercial and residential Building              1\n",
       "Administrative building                          1\n",
       "Hotel Apartments                                 1\n",
       "Commercial Residential Building                  1\n",
       "mmercial Building                                1\n",
       "Name: count, dtype: int64"
      ]
     },
     "execution_count": 15,
     "metadata": {},
     "output_type": "execute_result"
    }
   ],
   "source": [
    "df['Real Estate Type'].value_counts()"
   ]
  },
  {
   "cell_type": "code",
   "execution_count": 16,
   "id": "015d20d1",
   "metadata": {
    "execution": {
     "iopub.execute_input": "2025-01-14T09:33:50.955655Z",
     "iopub.status.busy": "2025-01-14T09:33:50.955234Z",
     "iopub.status.idle": "2025-01-14T09:33:51.051244Z",
     "shell.execute_reply": "2025-01-14T09:33:51.049953Z"
    },
    "papermill": {
     "duration": 0.105848,
     "end_time": "2025-01-14T09:33:51.053320",
     "exception": false,
     "start_time": "2025-01-14T09:33:50.947472",
     "status": "completed"
    },
    "tags": []
   },
   "outputs": [],
   "source": [
    "df.to_csv('qatar_re.csv')"
   ]
  },
  {
   "cell_type": "code",
   "execution_count": 17,
   "id": "24ce5619",
   "metadata": {
    "execution": {
     "iopub.execute_input": "2025-01-14T09:33:51.069526Z",
     "iopub.status.busy": "2025-01-14T09:33:51.069129Z",
     "iopub.status.idle": "2025-01-14T09:33:51.077424Z",
     "shell.execute_reply": "2025-01-14T09:33:51.076083Z"
    },
    "papermill": {
     "duration": 0.018778,
     "end_time": "2025-01-14T09:33:51.079464",
     "exception": false,
     "start_time": "2025-01-14T09:33:51.060686",
     "status": "completed"
    },
    "tags": []
   },
   "outputs": [
    {
     "data": {
      "text/plain": [
       "Date of Contract          object\n",
       "Municipality Name         object\n",
       "Zone Name                 object\n",
       "Real Estate Type          object\n",
       "Area in Square Meters      int64\n",
       "Price per Square Foot    float64\n",
       "Real Estate Value          int64\n",
       "geo_point_2d              object\n",
       "dtype: object"
      ]
     },
     "execution_count": 17,
     "metadata": {},
     "output_type": "execute_result"
    }
   ],
   "source": [
    "df.dtypes"
   ]
  },
  {
   "cell_type": "code",
   "execution_count": null,
   "id": "84cb8a20",
   "metadata": {
    "papermill": {
     "duration": 0.006944,
     "end_time": "2025-01-14T09:33:51.093836",
     "exception": false,
     "start_time": "2025-01-14T09:33:51.086892",
     "status": "completed"
    },
    "tags": []
   },
   "outputs": [],
   "source": []
  }
 ],
 "metadata": {
  "kaggle": {
   "accelerator": "none",
   "dataSources": [
    {
     "datasetId": 6480053,
     "sourceId": 10466262,
     "sourceType": "datasetVersion"
    }
   ],
   "dockerImageVersionId": 30822,
   "isGpuEnabled": false,
   "isInternetEnabled": true,
   "language": "python",
   "sourceType": "notebook"
  },
  "kernelspec": {
   "display_name": "Python 3",
   "language": "python",
   "name": "python3"
  },
  "language_info": {
   "codemirror_mode": {
    "name": "ipython",
    "version": 3
   },
   "file_extension": ".py",
   "mimetype": "text/x-python",
   "name": "python",
   "nbconvert_exporter": "python",
   "pygments_lexer": "ipython3",
   "version": "3.10.12"
  },
  "papermill": {
   "default_parameters": {},
   "duration": 15.52258,
   "end_time": "2025-01-14T09:33:51.922276",
   "environment_variables": {},
   "exception": null,
   "input_path": "__notebook__.ipynb",
   "output_path": "__notebook__.ipynb",
   "parameters": {},
   "start_time": "2025-01-14T09:33:36.399696",
   "version": "2.6.0"
  }
 },
 "nbformat": 4,
 "nbformat_minor": 5
}
